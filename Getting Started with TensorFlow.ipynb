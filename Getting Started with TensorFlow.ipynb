{
 "cells": [
  {
   "cell_type": "markdown",
   "metadata": {},
   "source": [
    "### 這次的目標 是想要把Weights訓練成0.1，biases訓練到0.3"
   ]
  },
  {
   "cell_type": "code",
   "execution_count": 1,
   "metadata": {
    "ExecuteTime": {
     "end_time": "2019-01-14T07:12:41.793332Z",
     "start_time": "2019-01-14T07:12:40.689884Z"
    }
   },
   "outputs": [],
   "source": [
    "import tensorflow as tf\n",
    "import numpy as np"
   ]
  },
  {
   "cell_type": "code",
   "execution_count": 2,
   "metadata": {
    "ExecuteTime": {
     "end_time": "2019-01-14T07:12:41.798904Z",
     "start_time": "2019-01-14T07:12:41.795683Z"
    }
   },
   "outputs": [],
   "source": [
    "x_data = np.random.rand(100).astype(np.float64)\n",
    "y_data = x_data * 0.1 + 0.3"
   ]
  },
  {
   "cell_type": "code",
   "execution_count": 3,
   "metadata": {
    "ExecuteTime": {
     "end_time": "2019-01-14T07:12:41.832672Z",
     "start_time": "2019-01-14T07:12:41.800421Z"
    }
   },
   "outputs": [],
   "source": [
    "Weights = tf.Variable(tf.random_uniform([1], -1.0, 1.0))\n",
    "biases = tf.Variable(tf.zeros([1]))\n",
    "y = Weights * x_data + biases"
   ]
  },
  {
   "cell_type": "markdown",
   "metadata": {},
   "source": [
    "# 使用的loss funtion min square error"
   ]
  },
  {
   "cell_type": "code",
   "execution_count": 4,
   "metadata": {
    "ExecuteTime": {
     "end_time": "2019-01-14T07:12:41.841671Z",
     "start_time": "2019-01-14T07:12:41.835681Z"
    }
   },
   "outputs": [],
   "source": [
    "loss = tf.reduce_mean(tf.square(y - y_data))"
   ]
  },
  {
   "cell_type": "markdown",
   "metadata": {},
   "source": [
    "# 用最基礎的 GradientDescent"
   ]
  },
  {
   "cell_type": "code",
   "execution_count": 5,
   "metadata": {
    "ExecuteTime": {
     "end_time": "2019-01-14T07:12:41.876518Z",
     "start_time": "2019-01-14T07:12:41.843421Z"
    }
   },
   "outputs": [],
   "source": [
    "optimizer = tf.train.GradientDescentOptimizer(0.5)\n",
    "train = optimizer.minimize(loss)"
   ]
  },
  {
   "cell_type": "code",
   "execution_count": 6,
   "metadata": {
    "ExecuteTime": {
     "end_time": "2019-01-14T07:12:41.880991Z",
     "start_time": "2019-01-14T07:12:41.877926Z"
    }
   },
   "outputs": [],
   "source": [
    "init = tf.global_variables_initializer()"
   ]
  },
  {
   "cell_type": "code",
   "execution_count": 7,
   "metadata": {
    "ExecuteTime": {
     "end_time": "2019-01-14T07:12:41.913548Z",
     "start_time": "2019-01-14T07:12:41.882607Z"
    }
   },
   "outputs": [],
   "source": [
    "sess = tf.Session()\n",
    "sess.run(init)"
   ]
  },
  {
   "cell_type": "code",
   "execution_count": 8,
   "metadata": {
    "ExecuteTime": {
     "end_time": "2019-01-14T07:12:41.976484Z",
     "start_time": "2019-01-14T07:12:41.915301Z"
    }
   },
   "outputs": [
    {
     "name": "stdout",
     "output_type": "stream",
     "text": [
      "0 [0.2219453] 0.3159724772\n",
      "20 [0.12289699] 0.2881799936\n",
      "40 [0.1058398] 0.2969853580\n",
      "60 [0.10148942] 0.2992311120\n",
      "80 [0.10037988] 0.2998039126\n",
      "100 [0.10009687] 0.2999499738\n",
      "120 [0.10002472] 0.2999872565\n",
      "140 [0.1000063] 0.2999967337\n",
      "160 [0.1000016] 0.2999991775\n",
      "180 [0.10000042] 0.2999997735\n"
     ]
    }
   ],
   "source": [
    "for step in range(200):\n",
    "    sess.run(train)\n",
    "    \n",
    "    if step % 20 == 0:\n",
    "        print(step ,sess.run(Weights), '%.10f' % sess.run(biases))"
   ]
  }
 ],
 "metadata": {
  "kernelspec": {
   "display_name": "Python 3",
   "language": "python",
   "name": "python3"
  },
  "language_info": {
   "codemirror_mode": {
    "name": "ipython",
    "version": 3
   },
   "file_extension": ".py",
   "mimetype": "text/x-python",
   "name": "python",
   "nbconvert_exporter": "python",
   "pygments_lexer": "ipython3",
   "version": "3.5.2"
  }
 },
 "nbformat": 4,
 "nbformat_minor": 2
}
